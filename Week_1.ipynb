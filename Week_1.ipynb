{
 "cells": [
  {
   "cell_type": "code",
   "execution_count": 1,
   "metadata": {},
   "outputs": [],
   "source": [
    "cipher_text = 'WKHPDJLFZRUGVDUHVTXHDPLVKRVVLIUDJH'"
   ]
  },
  {
   "cell_type": "code",
   "execution_count": null,
   "metadata": {},
   "outputs": [],
   "source": [
    "def decrypt(cipher_text, possible_key):\n",
    "    decrypted = ''\n",
    "    for char in cipher_text:\n",
    "        if 'A' <= char <= 'Z':\n",
    "            decrypted += chr(((ord(char) - ord('A') - possible_key) % 26) + ord('A'))\n",
    "        else:\n",
    "            decrypted += char\n",
    "    return decrypted"
   ]
  },
  {
   "cell_type": "code",
   "execution_count": null,
   "metadata": {},
   "outputs": [],
   "source": [
    "for i in range(0, 25):\n",
    "    print(f\"Shift {i}: {decrypt(cipher_text, i)}\")\n"
   ]
  }
 ],
 "metadata": {
  "kernelspec": {
   "display_name": "Python 3",
   "language": "python",
   "name": "python3"
  },
  "language_info": {
   "codemirror_mode": {
    "name": "ipython",
    "version": 3
   },
   "file_extension": ".py",
   "mimetype": "text/x-python",
   "name": "python",
   "nbconvert_exporter": "python",
   "pygments_lexer": "ipython3",
   "version": "3.9.12"
  }
 },
 "nbformat": 4,
 "nbformat_minor": 2
}
