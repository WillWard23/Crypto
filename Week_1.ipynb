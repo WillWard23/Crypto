{
 "cells": [
  {
   "cell_type": "markdown",
   "metadata": {},
   "source": [
    "## 1. Shift Cipher"
   ]
  },
  {
   "cell_type": "code",
   "execution_count": null,
   "metadata": {},
   "outputs": [
    {
     "name": "stdout",
     "output_type": "stream",
     "text": [
      "Shift 0: WKHPDJLFZRUGVDUHVTXHDPLVKRVVLIUDJH\n",
      "Shift 1: VJGOCIKEYQTFUCTGUSWGCOKUJQUUKHTCIG\n",
      "Shift 2: UIFNBHJDXPSETBSFTRVFBNJTIPTTJGSBHF\n",
      "Shift 3: THEMAGICWORDSARESQUEAMISHOSSIFRAGE\n",
      "Shift 4: SGDLZFHBVNQCRZQDRPTDZLHRGNRRHEQZFD\n",
      "Shift 5: RFCKYEGAUMPBQYPCQOSCYKGQFMQQGDPYEC\n",
      "Shift 6: QEBJXDFZTLOAPXOBPNRBXJFPELPPFCOXDB\n",
      "Shift 7: PDAIWCEYSKNZOWNAOMQAWIEODKOOEBNWCA\n",
      "Shift 8: OCZHVBDXRJMYNVMZNLPZVHDNCJNNDAMVBZ\n",
      "Shift 9: NBYGUACWQILXMULYMKOYUGCMBIMMCZLUAY\n",
      "Shift 10: MAXFTZBVPHKWLTKXLJNXTFBLAHLLBYKTZX\n",
      "Shift 11: LZWESYAUOGJVKSJWKIMWSEAKZGKKAXJSYW\n",
      "Shift 12: KYVDRXZTNFIUJRIVJHLVRDZJYFJJZWIRXV\n",
      "Shift 13: JXUCQWYSMEHTIQHUIGKUQCYIXEIIYVHQWU\n",
      "Shift 14: IWTBPVXRLDGSHPGTHFJTPBXHWDHHXUGPVT\n",
      "Shift 15: HVSAOUWQKCFRGOFSGEISOAWGVCGGWTFOUS\n",
      "Shift 16: GURZNTVPJBEQFNERFDHRNZVFUBFFVSENTR\n",
      "Shift 17: FTQYMSUOIADPEMDQECGQMYUETAEEURDMSQ\n",
      "Shift 18: ESPXLRTNHZCODLCPDBFPLXTDSZDDTQCLRP\n",
      "Shift 19: DROWKQSMGYBNCKBOCAEOKWSCRYCCSPBKQO\n",
      "Shift 20: CQNVJPRLFXAMBJANBZDNJVRBQXBBROAJPN\n",
      "Shift 21: BPMUIOQKEWZLAIZMAYCMIUQAPWAAQNZIOM\n",
      "Shift 22: AOLTHNPJDVYKZHYLZXBLHTPZOVZZPMYHNL\n",
      "Shift 23: ZNKSGMOICUXJYGXKYWAKGSOYNUYYOLXGMK\n",
      "Shift 24: YMJRFLNHBTWIXFWJXVZJFRNXMTXXNKWFLJ\n",
      "Shift 25: XLIQEKMGASVHWEVIWUYIEQMWLSWWMJVEKI\n"
     ]
    }
   ],
   "source": [
    "cipher_text = 'WKHPDJLFZRUGVDUHVTXHDPLVKRVVLIUDJH'\n",
    "\n",
    "def decrypt(cipher_text, possible_key):\n",
    "    decrypted = ''\n",
    "    for char in cipher_text:\n",
    "        decrypted += chr(((ord(char) - ord('A') - possible_key) % 26) + ord('A')) # Converts to Unicode so can perform shift by possible_key spaces.\n",
    "    return decrypted\n",
    "\n",
    "for k in range(26):\n",
    "    print(f\"Shift {k}: {decrypt(cipher_text, k)}\")"
   ]
  },
  {
   "cell_type": "markdown",
   "metadata": {},
   "source": [
    "## 2. Permutation Cipher"
   ]
  },
  {
   "cell_type": "code",
   "execution_count": null,
   "metadata": {},
   "outputs": [
    {
     "name": "stdout",
     "output_type": "stream",
     "text": [
      "Trying block size: 3\n",
      "Trying block size: 4\n",
      "Trying block size: 5\n",
      "Permutation (2, 4, 3, 0, 1): REMEMBERSECURITYISACHAINITSONLYASSECUREASTHEWEAKESTLINK\n",
      "Trying block size: 6\n",
      "Trying block size: 7\n"
     ]
    }
   ],
   "source": [
    "from itertools import permutations\n",
    "import re\n",
    "\n",
    "cipher_text = 'EMRMESEBREITCRUACYSINIHIANLTOSSEYSAEACRUEWSHTESEKANKTIL'\n",
    "keywords = [\"remember\", \"cyber\", \"security\"] # After running through some permutations I noticed there's a good chance it includes one of these words.\n",
    "\n",
    "def chunk_text(text, size):\n",
    "    return [text[i:i+size] for i in range(0, len(text), size) if len(text[i:i+size]) == size] # Seperates the cipher text into chunks determined by the block size.\n",
    "\n",
    "def check_keywords(decrypted):\n",
    "    return any(re.search(word, decrypted, re.IGNORECASE) for word in keywords)\n",
    "\n",
    "def try_permutations(cipher_text, block_size):\n",
    "    chunks = chunk_text(cipher_text, block_size)\n",
    "    \n",
    "    for perm in permutations(range(block_size)):  \n",
    "        decrypted = ''.join(''.join(chunk[i] for i in perm) for chunk in chunks)\n",
    "        \n",
    "        if check_keywords(decrypted):\n",
    "            print(f\"Permutation {perm}: {decrypted}\")\n",
    "\n",
    "# We do not know the block size, so experiment with different sizes until we find \n",
    "for block_size in [3, 4, 5, 6, 7]:\n",
    "    print(f\"Trying block size: {block_size}\")\n",
    "    try_permutations(cipher_text, block_size)\n"
   ]
  },
  {
   "cell_type": "markdown",
   "metadata": {},
   "source": [
    "## 3. Substitution Cipher"
   ]
  },
  {
   "cell_type": "code",
   "execution_count": null,
   "metadata": {},
   "outputs": [],
   "source": [
    "cipher_text = 'AGBAPZTGELGPTIPMGHQCGAECHZFVCEXXGLYIGHEULTQATQHPUFEUYGZZEVGUYHGUYIPUYIGQUGYIPYEAYIGFNKTYYCEGLYIGFSQKZLEUMGUYPSEXIGCYIPYUQQUGSQKZLDCGPO'\n",
    "\n",
    "# Quite intense to solve programatically, so looked at frequency distribution and made educated guesses.\n"
   ]
  },
  {
   "cell_type": "markdown",
   "metadata": {},
   "source": [
    "## 4. Vigenere Cipher"
   ]
  },
  {
   "cell_type": "markdown",
   "metadata": {},
   "source": [
    "We can find the length of the key using the index of coincidence. It measures the likelihood that any two characters of a text are the same. So, we can do this for different key lengths, and select the most likely, which is the closest value to english language (~0.0667)"
   ]
  },
  {
   "cell_type": "code",
   "execution_count": 27,
   "metadata": {},
   "outputs": [
    {
     "name": "stdout",
     "output_type": "stream",
     "text": [
      "Key Length: 1, Avg IC: 0.0422\n",
      "Key Length: 2, Avg IC: 0.0429\n",
      "Key Length: 3, Avg IC: 0.0429\n",
      "Key Length: 4, Avg IC: 0.0428\n",
      "Key Length: 5, Avg IC: 0.0427\n",
      "Key Length: 6, Avg IC: 0.0429\n",
      "Key Length: 7, Avg IC: 0.0627\n",
      "Key Length: 8, Avg IC: 0.0412\n",
      "Key Length: 9, Avg IC: 0.0436\n",
      "Key Length: 10, Avg IC: 0.0443\n",
      "Key Length: 11, Avg IC: 0.0425\n",
      "Key Length: 12, Avg IC: 0.0422\n",
      "Key Length: 13, Avg IC: 0.0406\n",
      "Key Length: 14, Avg IC: 0.0612\n",
      "Key Length: 15, Avg IC: 0.0450\n",
      "Key Length: 16, Avg IC: 0.0391\n",
      "Key Length: 17, Avg IC: 0.0401\n",
      "Key Length: 18, Avg IC: 0.0421\n",
      "Key Length: 19, Avg IC: 0.0396\n",
      "Key Length: 20, Avg IC: 0.0423\n"
     ]
    }
   ],
   "source": [
    "from collections import Counter\n",
    "\n",
    "def index_of_coincidence(ciphertext):\n",
    "    N = len(ciphertext)\n",
    "    if N <= 1:\n",
    "        return 0.0\n",
    "    freq = Counter(ciphertext)\n",
    "    ic = sum(n * (n - 1) for n in freq.values()) / (N * (N - 1))\n",
    "    return ic\n",
    "\n",
    "def test_key_lengths(ciphertext, max_key_length=20):\n",
    "    results = {}\n",
    "    for key_length in range(1, max_key_length + 1):\n",
    "        ics = []\n",
    "        for i in range(key_length):\n",
    "            subset = ciphertext[i::key_length]\n",
    "            ics.append(index_of_coincidence(subset))\n",
    "        avg_ic = sum(ics) / len(ics)\n",
    "        results[key_length] = avg_ic\n",
    "    return results\n",
    "\n",
    "ciphertext = \"EFKENHKTOBWSBWCZEDZTWEWZPNBRIPQRUNWGCRXNLKCAQACDICRHTLLETWMAHTXWFQPAHSFQDNJMSIFMEBXVTOBXXECEVMCAXWUWPTMUEEYMCXYSTHTXHAMUCDWYKXJWZZCGKHFABUMXCQWTLMSFSRTHWITOZSVTGMXGHNTWKBMVUFIQTOWYLWUSCJYGGGGAUGHZGGMCXVSWBFTLFSXSEBOLXDSODHLMFSDTXNRVWXIBXGWFDTHMWKHGPNBSPWEJHWITGFDIWYPZUZYVLGGEEFTCGFERLRTVCSGUILGFEBOLXCZEDWHRUWPTLTPNHTTQTCUOZPXOITGMGSFMIVFILRXQUMXHUCDFQPEBRIHTTLNPGGAGPBSNOFXHZIZDQRNTXKCZHXHIUWFBUMXGFUUMAIOSMHOKIUVALFHRIWMBWHQRIFXHZHQSEXNFEVHQGCYLGFDPHWSOBGBVXVKGZIIGI\"\n",
    "\n",
    "# Remove spaces and non-alphabetic characters\n",
    "ciphertext = ''.join(filter(str.isalpha, ciphertext.upper()))\n",
    "\n",
    "# Test key lengths\n",
    "key_length_results = test_key_lengths(ciphertext, max_key_length=20)\n",
    "\n",
    "# Print results\n",
    "for key_length, ic in key_length_results.items():\n",
    "    print(f\"Key Length: {key_length}, Avg IC: {ic:.4f}\")"
   ]
  },
  {
   "cell_type": "markdown",
   "metadata": {},
   "source": [
    "Now we can safely assume the key length is 7, since it is closest to 0.0667"
   ]
  },
  {
   "cell_type": "code",
   "execution_count": 31,
   "metadata": {},
   "outputs": [
    {
     "name": "stdout",
     "output_type": "stream",
     "text": [
      "Group 1: ['E', 'T', 'C', 'E', 'I', 'G', 'C', 'C', 'T', 'W', 'F', 'I', 'T', 'E', 'U', 'E', 'T', 'U', 'J', 'H', 'C', 'F', 'T', 'M', 'K', 'Q', 'U', 'G', 'G', 'W', 'X', 'D', 'F', 'V', 'W', 'K', 'P', 'T', 'P', 'G', 'G', 'V', 'G', 'C', 'U', 'N', 'U', 'T', 'I', 'Q', 'D', 'I', 'G', 'N', 'Z', 'K', 'U', 'G', 'O', 'U', 'I', 'R', 'Q', 'V', 'G', 'O', 'K']\n",
      "Group 2: ['F', 'O', 'Z', 'W', 'P', 'C', 'A', 'R', 'W', 'F', 'Q', 'F', 'O', 'V', 'W', 'Y', 'H', 'C', 'W', 'F', 'Q', 'S', 'O', 'X', 'B', 'T', 'S', 'G', 'G', 'B', 'S', 'S', 'S', 'W', 'F', 'H', 'W', 'G', 'Z', 'G', 'F', 'C', 'F', 'Z', 'W', 'H', 'O', 'G', 'V', 'U', 'F', 'H', 'G', 'O', 'D', 'C', 'W', 'F', 'S', 'V', 'W', 'I', 'S', 'H', 'F', 'B', 'G']\n",
      "Group 3: ['K', 'B', 'E', 'Z', 'Q', 'R', 'Q', 'H', 'M', 'Q', 'D', 'M', 'B', 'M', 'P', 'M', 'T', 'D', 'Z', 'A', 'W', 'R', 'Z', 'G', 'M', 'O', 'C', 'A', 'M', 'F', 'E', 'O', 'D', 'X', 'D', 'G', 'E', 'F', 'U', 'E', 'E', 'S', 'E', 'E', 'P', 'T', 'Z', 'M', 'F', 'M', 'Q', 'T', 'A', 'F', 'Q', 'Z', 'F', 'U', 'M', 'A', 'M', 'F', 'E', 'Q', 'D', 'G', 'Z']\n",
      "Group 4: ['E', 'W', 'D', 'P', 'R', 'X', 'A', 'T', 'A', 'P', 'N', 'E', 'X', 'C', 'T', 'C', 'X', 'W', 'Z', 'B', 'T', 'T', 'S', 'H', 'V', 'W', 'J', 'U', 'C', 'T', 'B', 'D', 'T', 'I', 'T', 'P', 'J', 'D', 'Z', 'E', 'R', 'G', 'B', 'D', 'T', 'T', 'P', 'G', 'I', 'X', 'P', 'T', 'G', 'X', 'R', 'H', 'B', 'U', 'H', 'L', 'B', 'X', 'X', 'G', 'P', 'B', 'I']\n",
      "Group 5: ['N', 'S', 'Z', 'N', 'U', 'N', 'C', 'L', 'H', 'A', 'J', 'B', 'X', 'A', 'M', 'X', 'H', 'Y', 'C', 'U', 'L', 'H', 'V', 'N', 'U', 'Y', 'Y', 'G', 'X', 'L', 'O', 'H', 'X', 'B', 'H', 'N', 'H', 'I', 'Y', 'F', 'L', 'U', 'O', 'W', 'L', 'Q', 'X', 'S', 'L', 'H', 'E', 'L', 'P', 'H', 'N', 'X', 'U', 'M', 'O', 'F', 'W', 'H', 'N', 'C', 'H', 'V', 'I']\n",
      "Group 6: ['H', 'B', 'T', 'B', 'N', 'L', 'D', 'L', 'T', 'H', 'M', 'X', 'E', 'X', 'U', 'Y', 'A', 'K', 'G', 'M', 'M', 'W', 'T', 'T', 'F', 'L', 'G', 'H', 'V', 'F', 'L', 'L', 'N', 'X', 'M', 'B', 'W', 'W', 'V', 'T', 'R', 'I', 'L', 'H', 'T', 'T', 'O', 'F', 'R', 'U', 'B', 'N', 'B', 'Z', 'T', 'H', 'M', 'A', 'K', 'H', 'H', 'Z', 'F', 'Y', 'W', 'X', 'G']\n",
      "Group 7: ['K', 'W', 'W', 'R', 'W', 'K', 'I', 'E', 'X', 'S', 'S', 'V', 'C', 'W', 'E', 'S', 'M', 'X', 'K', 'X', 'S', 'I', 'G', 'W', 'I', 'W', 'G', 'Z', 'S', 'S', 'X', 'M', 'R', 'G', 'W', 'S', 'I', 'Y', 'L', 'C', 'T', 'L', 'X', 'R', 'P', 'C', 'I', 'M', 'X', 'C', 'R', 'P', 'S', 'I', 'X', 'I', 'X', 'I', 'I', 'R', 'Q', 'H', 'E', 'L', 'S', 'V', 'I']\n"
     ]
    }
   ],
   "source": [
    "# Your ciphertext\n",
    "ciphertext = \"\"\"EFKENHKTOBWSBWCZEDZTWEWZPNBRIPQRUNWGCRXNLKCAQACDICRHTLLETWMAHTXWFQPAHSFQDNJMSIFMEBXVTOBXXECEVMCAXWUWPTMUEEYMCXYSTHTXHAMUCDWYKXJWZZCGKHFABUMXCQWTLMSFSRTHWITOZSVTGMXGHNTWKBMVUFIQTOWYLWUSCJYGGGGAUGHZGGMCXVSWBFTLFSXSEBOLXDSODHLMFSDTXNRVWXIBXGWFDTHMWKHGPNBSPWEJHWITGFDIWYPZUZYVLGGEEFTCGFERLRTVCSGUILGFEBOLXCZEDWHRUWPTLTPNHTTQTCUOZPXOITGMGSFMIVFILRXQUMXHUCDFQPEBRIHTTLNPGGAGPBSNOFXHZIZDQRNTXKCZHXHIUWFBUMXGFUUMAIOSMHOKIUVALFHRIWMBWHQRIFXHZHQSEXNFEVHQGCYLGFDPHWSOBGBVXVKGZIIGI\"\"\"\n",
    "\n",
    "# Split the ciphertext into 7 groups (key length)\n",
    "group_1 = []\n",
    "group_2 = []\n",
    "group_3 = []\n",
    "group_4 = []\n",
    "group_5 = []\n",
    "group_6 = []\n",
    "group_7 = []\n",
    "\n",
    "for i, char in enumerate(ciphertext):\n",
    "    if i % 7 == 0:\n",
    "        group_1.append(char)\n",
    "    elif i % 7 == 1:\n",
    "        group_2.append(char)\n",
    "    elif i % 7 == 2:\n",
    "        group_3.append(char)\n",
    "    elif i % 7 == 3:\n",
    "        group_4.append(char)\n",
    "    elif i % 7 == 4:\n",
    "        group_5.append(char)\n",
    "    elif i % 7 == 5:\n",
    "        group_6.append(char)\n",
    "    elif i % 7 == 6:\n",
    "        group_7.append(char)\n",
    "\n",
    "# Print the groups\n",
    "print(\"Group 1:\", group_1)\n",
    "print(\"Group 2:\", group_2)\n",
    "print(\"Group 3:\", group_3)\n",
    "print(\"Group 4:\", group_4)\n",
    "print(\"Group 5:\", group_5)\n",
    "print(\"Group 6:\", group_6)\n",
    "print(\"Group 7:\", group_7)"
   ]
  },
  {
   "cell_type": "markdown",
   "metadata": {},
   "source": [
    "Next, we find the most common char in each group, and assume it is the letter E (most common English character)"
   ]
  },
  {
   "cell_type": "code",
   "execution_count": 48,
   "metadata": {},
   "outputs": [
    {
     "name": "stdout",
     "output_type": "stream",
     "text": [
      "['G', 'F', 'M', 'T', 'H', 'T', 'I']\n",
      "Recovered Key: CBIPDPE\n"
     ]
    }
   ],
   "source": [
    "def most_common_character(char_list):\n",
    "    counter = Counter(char_list)\n",
    "    return counter.most_common(1)[0][0]\n",
    "\n",
    "# Collect the most common characters from each group\n",
    "most_common_chars = [\n",
    "    most_common_character(group_1),\n",
    "    most_common_character(group_2),\n",
    "    most_common_character(group_3),\n",
    "    most_common_character(group_4),\n",
    "    most_common_character(group_5),\n",
    "    most_common_character(group_6),\n",
    "    most_common_character(group_7)\n",
    "]\n",
    "\n",
    "def find_key(most_common_chars, target_char='E'):\n",
    "    alphabet = 'ABCDEFGHIJKLMNOPQRSTUVWXYZ'\n",
    "    target_index = alphabet.index(target_char.upper())\n",
    "    \n",
    "    key = []\n",
    "    for char in most_common_chars:\n",
    "        char_index = alphabet.index(char.upper())\n",
    "        shift = (char_index - target_index) % 26\n",
    "        key_letter = alphabet[shift]\n",
    "        key.append(key_letter)\n",
    "    \n",
    "    return ''.join(key)\n",
    "\n",
    "\n",
    "print(most_common_chars)\n",
    "key = find_key(most_common_chars)\n",
    "print(\"Recovered Key:\", key)"
   ]
  },
  {
   "cell_type": "code",
   "execution_count": null,
   "metadata": {},
   "outputs": [
    {
     "name": "stdout",
     "output_type": "stream",
     "text": [
      "Decrypted Plaintext: CECPKSGRNTHPMSAYWOWESCVRAKMNGOICRYSEBJIKWGAZILZOEAQZEIWARVELEETUEIAXSODPVYGXOGEEPYIRRNTIUPYCUENXISSVHEJFACXENUJORGLIELISBVHVVTHVRKZRGFESMRXTAPOEIXODRJEEHERNRDSECKWYSKESIAEGRQEOSGHVWSSRUUVRCEFSFDSVEFENUGOUAXEIQOVRWMLWTBRGOEWIDRVEUYNTVPTYICUEVEEXSIGYAKMONVWUEHERFXOFHUNYMKVGHEFWPCEYEEWCICPTBKRRTHEEWMLWTAYWOTSNSVHEIELLGLENEYSNRAUZERFERPQIGUXTICTOTEIEFYBEIABMNGGLEIYLEFSRMMOLNXIEKEXCICKETIBRSUSESVXMRXTEEMFJLEMRESLVESUSWCSNGVEMTSMPHXIEKDORWIKQATGIRZJHEEVAEHOMAYMSIRIFRTFRE\n"
     ]
    }
   ],
   "source": [
    "def vigenere_decrypt(ciphertext, key):\n",
    "    alphabet = 'ABCDEFGHIJKLMNOPQRSTUVWXYZ'\n",
    "    decrypted_text = []\n",
    "    key_length = len(key)\n",
    "    \n",
    "    for i, char in enumerate(ciphertext):\n",
    "        if char in alphabet:\n",
    "            # Get the shift for the current key letter\n",
    "            key_char = key[i % key_length]\n",
    "            shift = alphabet.index(key_char)\n",
    "            \n",
    "            # Decrypt the character\n",
    "            decrypted_char = alphabet[(alphabet.index(char) - shift) % 26]\n",
    "            decrypted_text.append(decrypted_char)\n",
    "        else:\n",
    "            # Keep non-alphabetic characters as-is\n",
    "            decrypted_text.append(char)\n",
    "    \n",
    "    return ''.join(decrypted_text)\n",
    "\n",
    "# Example usage\n",
    "ciphertext = \"EFKENHKTOBWSBWCZEDZTWEWZPNBRIPQRUNWGCRXNLKCAQACDICRHTLLETWMAHTXWFQPAHSFQDNJMSIFMEBXVTOBXXECEVMCAXWUWPTMUEEYMCXYSTHTXHAMUCDWYKXJWZZCGKHFABUMXCQWTLMSFSRTHWITOZSVTGMXGHNTWKBMVUFIQTOWYLWUSCJYGGGGAUGHZGGMCXVSWBFTLFSXSEBOLXDSODHLMFSDTXNRVWXIBXGWFDTHMWKHGPNBSPWEJHWITGFDIWYPZUZYVLGGEEFTCGFERLRTVCSGUILGFEBOLXCZEDWHRUWPTLTPNHTTQTCUOZPXOITGMGSFMIVFILRXQUMXHUCDFQPEBRIHTTLNPGGAGPBSNOFXHZIZDQRNTXKCZHXHIUWFBUMXGFUUMAIOSMHOKIUVALFHRIWMBWHQRIFXHZHQSEXNFEVHQGCYLGFDPHWSOBGBVXVKGZIIGI\"\n",
    "key = \"CBIPDPE\"  # Replace with your recovered key\n",
    "\n",
    "# Remove spaces and non-alphabetic characters\n",
    "ciphertext = ''.join(filter(str.isalpha, ciphertext.upper()))\n",
    "\n",
    "# Decrypt the ciphertext\n",
    "plaintext = vigenere_decrypt(ciphertext, key)\n",
    "print(\"Decrypted Plaintext:\", plaintext)"
   ]
  }
 ],
 "metadata": {
  "kernelspec": {
   "display_name": "Python 3",
   "language": "python",
   "name": "python3"
  },
  "language_info": {
   "codemirror_mode": {
    "name": "ipython",
    "version": 3
   },
   "file_extension": ".py",
   "mimetype": "text/x-python",
   "name": "python",
   "nbconvert_exporter": "python",
   "pygments_lexer": "ipython3",
   "version": "3.9.12"
  }
 },
 "nbformat": 4,
 "nbformat_minor": 2
}
